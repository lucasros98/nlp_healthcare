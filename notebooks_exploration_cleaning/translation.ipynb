{
 "cells": [
  {
   "attachments": {},
   "cell_type": "markdown",
   "metadata": {},
   "source": [
    "# Translation of the data\n",
    "\n",
    "To translate text data from Swedish to English and vice versa, we use the MarianMT model from HuggingFace."
   ]
  },
  {
   "cell_type": "code",
   "execution_count": null,
   "metadata": {},
   "outputs": [],
   "source": [
    "import os\n",
    "import numpy as np\n",
    "from dotenv import load_dotenv, find_dotenv\n",
    "import sys\n",
    "\n",
    "sys.path.append(os.path.dirname(find_dotenv()))\n"
   ]
  },
  {
   "cell_type": "code",
   "execution_count": null,
   "metadata": {},
   "outputs": [],
   "source": [
    "#import file with the text to translate\n",
    "from py_scripts import translation\n"
   ]
  }
 ],
 "metadata": {
  "kernelspec": {
   "display_name": "env",
   "language": "python",
   "name": "python3"
  },
  "language_info": {
   "codemirror_mode": {
    "name": "ipython",
    "version": 3
   },
   "file_extension": ".py",
   "mimetype": "text/x-python",
   "name": "python",
   "nbconvert_exporter": "python",
   "pygments_lexer": "ipython3",
   "version": "3.10.0"
  },
  "vscode": {
   "interpreter": {
    "hash": "947566739ad5f995ef683c347463316d267e00143e5dd2f059640c7a26e2b5e4"
   }
  }
 },
 "nbformat": 4,
 "nbformat_minor": 2
}
