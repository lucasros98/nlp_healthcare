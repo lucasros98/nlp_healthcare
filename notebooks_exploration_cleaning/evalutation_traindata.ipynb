{
 "cells": [
  {
   "attachments": {},
   "cell_type": "markdown",
   "metadata": {},
   "source": [
    "# Evalutation using different data sizes"
   ]
  },
  {
   "cell_type": "code",
   "execution_count": null,
   "metadata": {},
   "outputs": [],
   "source": [
    "import os\n",
    "import numpy as np\n",
    "import matplotlib.pyplot as plt\n",
    "from dotenv import load_dotenv, find_dotenv\n",
    "import sys\n",
    "import csv\n",
    "\n",
    "sys.path.append(os.path.dirname(find_dotenv()))\n",
    "\n",
    "load_dotenv(find_dotenv())"
   ]
  },
  {
   "cell_type": "code",
   "execution_count": null,
   "metadata": {},
   "outputs": [],
   "source": [
    "# Read in data from results/{model_name}/traindata.csv\n",
    "# and evaluate the model\n",
    "\n",
    "def read_files(dir):\n",
    "    # Create paths for different models\n",
    "    model_path = os.path.join(os.environ.get(\"RESULT_DIR\"), dir)\n",
    "\n",
    "    # Read all files in the directory\n",
    "    model_files = os.listdir(model_path)\n",
    "\n",
    "    # Create a list of all files that end with .csv\n",
    "    model_csv = [file for file in model_files if file.endswith(\".csv\")]\n",
    "\n",
    "    #the file name will be for example kb_bert_1.csv\n",
    "    #we want to get the number 1\n",
    "    data_sizes = [file.split(\".\")[0].split(\"_\")[-1] for file in model_csv]\n",
    "    \n",
    "    #Read all csv files\n",
    "    model_data = {}\n",
    "    for i in range(len(model_csv)):\n",
    "        file = model_csv[i]\n",
    "        with open(os.path.join(model_path, file), \"r\") as f:\n",
    "            reader = csv.reader(f)\n",
    "            \n",
    "            #first get the first row as header\n",
    "            header = next(reader)\n",
    "\n",
    "            #create a dictionary with the header as keys and column as values\n",
    "            result = {}\n",
    "\n",
    "            for h in header:\n",
    "                result[h] = []\n",
    "\n",
    "            #read the rest of the rows\n",
    "            for row in reader:\n",
    "                for h, v in zip(header, row):\n",
    "                    result[h].append(v)\n",
    "            \n",
    "            #add the result to the dictionary\n",
    "            model_data[data_sizes[i]] = result\n",
    "\n",
    "    return model_data\n",
    "\n"
   ]
  },
  {
   "cell_type": "code",
   "execution_count": null,
   "metadata": {},
   "outputs": [],
   "source": [
    "kb_bert_res = read_files(\"kb_bert\")\n",
    "print(kb_bert_res)\n"
   ]
  },
  {
   "cell_type": "code",
   "execution_count": null,
   "metadata": {},
   "outputs": [],
   "source": [
    "#Create a plot for the results of the different models\n",
    "#the plot will show the f1 score for the different entities on different data sizes\n",
    "def plot_results(results, title):\n",
    "    #get the different entity types\n",
    "    entities = results[\"25\"][\"entity\"].copy()\n",
    " \n",
    "    #get the different data sizes\n",
    "    data_sizes = list(results.keys())\n",
    "\n",
    "    #sort data sizes, start with the smallest\n",
    "    data_sizes.sort(key=int)\n",
    "\n",
    "    #create a dictionary with the entity types as keys and the f1 scores as values\n",
    "    entity_scores = {}\n",
    "    for entity in entities:\n",
    "        entity_scores[entity] = []\n",
    "\n",
    "    #add the f1 scores for each entity type for each data size\n",
    "    for size in data_sizes:\n",
    "        for entity in entities:\n",
    "            entity_scores[entity].append(float(results[size][\"f1\"][entities.index(entity)]))\n",
    "    #create a plot for each entity type\n",
    "    for entity in entities:\n",
    "        plt.plot(data_sizes, entity_scores[entity], label=entity)\n",
    "\n",
    "    plt.xlabel(\"Data size\")\n",
    "    plt.ylabel(\"F1 score\")\n",
    "    plt.title(title)\n",
    "    plt.legend()\n",
    "    plt.show()\n"
   ]
  },
  {
   "cell_type": "code",
   "execution_count": null,
   "metadata": {},
   "outputs": [],
   "source": [
    "plot_results(kb_bert_res, \"kb_bert\")"
   ]
  }
 ],
 "metadata": {
  "kernelspec": {
   "display_name": "env",
   "language": "python",
   "name": "python3"
  },
  "language_info": {
   "codemirror_mode": {
    "name": "ipython",
    "version": 3
   },
   "file_extension": ".py",
   "mimetype": "text/x-python",
   "name": "python",
   "nbconvert_exporter": "python",
   "pygments_lexer": "ipython3",
   "version": "3.10.0"
  },
  "vscode": {
   "interpreter": {
    "hash": "947566739ad5f995ef683c347463316d267e00143e5dd2f059640c7a26e2b5e4"
   }
  }
 },
 "nbformat": 4,
 "nbformat_minor": 2
}
