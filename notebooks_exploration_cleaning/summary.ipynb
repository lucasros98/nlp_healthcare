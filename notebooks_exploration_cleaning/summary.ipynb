{
 "cells": [
  {
   "cell_type": "markdown",
   "metadata": {},
   "source": [
    "# Summary notebook"
   ]
  },
  {
   "cell_type": "code",
   "execution_count": null,
   "metadata": {},
   "outputs": [],
   "source": [
    "import os\n",
    "import numpy as np\n",
    "from dotenv import load_dotenv, find_dotenv\n",
    "import matplotlib.pyplot as plt\n",
    "import sys\n",
    "import csv\n",
    "\n",
    "sys.path.append(os.path.dirname(find_dotenv()))\n",
    "\n",
    "load_dotenv(find_dotenv())"
   ]
  },
  {
   "cell_type": "code",
   "execution_count": null,
   "metadata": {},
   "outputs": [],
   "source": [
    "# Read in data from results/similarity/similarity_scores_{dataset}_data_{percentage}.csv\n",
    "# and evaluate\n",
    "\n",
    "def read_files(dataset):\n",
    "    # Get path to similarity folder\n",
    "    file_path = os.path.join(os.environ.get(\"RESULT_DIR\"), 'similarity')\n",
    "\n",
    "    # Read all files in the directory\n",
    "    all_files = os.listdir(file_path)\n",
    "\n",
    "    # Create a list of all files that contains the name of the dataset\n",
    "    dataset_files = [file for file in all_files if dataset in file]\n",
    "\n",
    "    #the file name will be for example similarity_scores_test_data_25.csv\n",
    "    #we want to get the number 25\n",
    "    data_sizes = [file.split(\".\")[0].split(\"_\")[-1] for file in dataset_files]\n",
    "    \n",
    "    #Read all csv files\n",
    "    result_data = {}\n",
    "    for i in range(len(dataset_files)):\n",
    "        file = dataset_files[i]\n",
    "        with open(os.path.join(file_path, file), \"r\") as f:\n",
    "            reader = csv.reader(f)\n",
    "            \n",
    "            #first get the first row as header\n",
    "            header = next(reader)\n",
    "\n",
    "            #create a dictionary with the header as keys and column as values\n",
    "            result = {}\n",
    "\n",
    "            for h in header:\n",
    "                result[h] = []\n",
    "\n",
    "            #read the rest of the rows\n",
    "            for row in reader:\n",
    "                for h, v in zip(header, row):\n",
    "                    result[h].append(v)\n",
    "            \n",
    "            #add the result to the dictionary\n",
    "            result_data[data_sizes[i]] = result\n",
    "\n",
    "    return result_data"
   ]
  },
  {
   "cell_type": "code",
   "execution_count": null,
   "metadata": {},
   "outputs": [],
   "source": [
    "# Create three different plots for each Metric\n",
    "# The plots will show the Mean, Avg_max and Avg_min scores for the different Metrics\n",
    "def plot_similarity_scores(results, index, title):\n",
    "    \n",
    "    # get the data set sizes\n",
    "    data_sizes = list(results.keys())\n",
    "    \n",
    "    #sort data sizes, start with the smallest\n",
    "    data_sizes.sort(key=int)\n",
    "    \n",
    "    score_titles = ['Mean', 'Max', 'Min']\n",
    "\n",
    "    #create a dictionary with the metrics as keys and the scores as values\n",
    "    metric_scores = {}\n",
    "    for metric in score_titles:\n",
    "        metric_scores[metric] = []\n",
    "\n",
    "    #add the scores for each metric\n",
    "    for size in data_sizes:\n",
    "        for metric in score_titles:\n",
    "            metric_scores[metric].append(float(results[size][metric][index]))\n",
    "    \n",
    "    #create a plot for each metric\n",
    "    for score in score_titles:\n",
    "        plt.plot(data_sizes, metric_scores[score], label=score)\n",
    "\n",
    "    plt.xlabel(\"Data size\")\n",
    "    plt.ylabel(\"Score\")\n",
    "    plt.title(title)\n",
    "    plt.legend()\n",
    "    plt.show()"
   ]
  },
  {
   "cell_type": "markdown",
   "metadata": {},
   "source": [
    "## Test dataset"
   ]
  },
  {
   "cell_type": "code",
   "execution_count": null,
   "metadata": {},
   "outputs": [],
   "source": [
    "test_res = read_files(\"test\")\n",
    "metrics = test_res['25']['Metric']\n",
    "\n",
    "for index, metric in enumerate(metrics):\n",
    "    plot_similarity_scores(test_res, index, metric)"
   ]
  },
  {
   "cell_type": "markdown",
   "metadata": {},
   "source": [
    "## Val dataset"
   ]
  },
  {
   "cell_type": "code",
   "execution_count": null,
   "metadata": {},
   "outputs": [],
   "source": [
    "test_res = read_files(\"val\")\n",
    "metrics = test_res['25']['Metric']\n",
    "\n",
    "for index, metric in enumerate(metrics):\n",
    "    plot_similarity_scores(test_res, index, metric)"
   ]
  },
  {
   "cell_type": "code",
   "execution_count": null,
   "metadata": {},
   "outputs": [],
   "source": []
  }
 ],
 "metadata": {
  "kernelspec": {
   "display_name": "Python 3 (ipykernel)",
   "language": "python",
   "name": "python3"
  },
  "language_info": {
   "codemirror_mode": {
    "name": "ipython",
    "version": 3
   },
   "file_extension": ".py",
   "mimetype": "text/x-python",
   "name": "python",
   "nbconvert_exporter": "python",
   "pygments_lexer": "ipython3",
   "version": "3.10.9"
  }
 },
 "nbformat": 4,
 "nbformat_minor": 2
}
