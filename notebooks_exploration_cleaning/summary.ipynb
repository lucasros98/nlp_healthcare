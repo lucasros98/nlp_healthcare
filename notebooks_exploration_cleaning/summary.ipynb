{
 "cells": [
  {
   "cell_type": "markdown",
   "metadata": {},
   "source": [
    "# Summary notebook"
   ]
  },
  {
   "cell_type": "code",
   "execution_count": 1,
   "metadata": {},
   "outputs": [
    {
     "data": {
      "text/plain": [
       "True"
      ]
     },
     "execution_count": 1,
     "metadata": {},
     "output_type": "execute_result"
    }
   ],
   "source": [
    "import os\n",
    "import numpy as np\n",
    "from dotenv import load_dotenv, find_dotenv\n",
    "import matplotlib.pyplot as plt\n",
    "import sys\n",
    "import csv\n",
    "\n",
    "sys.path.append(os.path.dirname(find_dotenv()))\n",
    "\n",
    "load_dotenv(find_dotenv())"
   ]
  },
  {
   "cell_type": "code",
   "execution_count": 2,
   "metadata": {},
   "outputs": [],
   "source": [
    "# Read in data from results/similarity/similarity_scores_{dataset}_data_{percentage}.csv\n",
    "# and evaluate\n",
    "\n",
    "def read_files(dataset):\n",
    "    # Get path to similarity folder\n",
    "    file_path = os.path.join(os.environ.get(\"RESULT_DIR\"), 'similarity')\n",
    "\n",
    "    # Read all files in the directory\n",
    "    all_files = os.listdir(file_path)\n",
    "\n",
    "    # Create a list of all files that contains the name of the dataset\n",
    "    dataset_files = [file for file in all_files if dataset in file]\n",
    "\n",
    "    #the file name will be for example similarity_scores_test_data_25.csv\n",
    "    #we want to get the number 25\n",
    "    data_sizes = [file.split(\".\")[0].split(\"_\")[-1] for file in dataset_files]\n",
    "    \n",
    "    #Read all csv files\n",
    "    result_data = {}\n",
    "    for i in range(len(dataset_files)):\n",
    "        file = dataset_files[i]\n",
    "        with open(os.path.join(file_path, file), \"r\") as f:\n",
    "            reader = csv.reader(f)\n",
    "            \n",
    "            #first get the first row as header\n",
    "            header = next(reader)\n",
    "\n",
    "            #create a dictionary with the header as keys and column as values\n",
    "            result = {}\n",
    "\n",
    "            for h in header:\n",
    "                result[h] = []\n",
    "\n",
    "            #read the rest of the rows\n",
    "            for row in reader:\n",
    "                for h, v in zip(header, row):\n",
    "                    result[h].append(v)\n",
    "            \n",
    "            #add the result to the dictionary\n",
    "            result_data[data_sizes[i]] = result\n",
    "\n",
    "    return result_data"
   ]
  },
  {
   "cell_type": "code",
   "execution_count": 3,
   "metadata": {},
   "outputs": [],
   "source": [
    "#Create a plot for the results of the different models\n",
    "#the plot will show the f1 score for the different entities on different data sizes\n",
    "def plot_results(results, title):\n",
    "    #get the different entity types\n",
    "    entities = results[\"25\"][\"entity\"].copy()\n",
    " \n",
    "    #get the different data sizes\n",
    "    data_sizes = list(results.keys())\n",
    "\n",
    "    #sort data sizes, start with the smallest\n",
    "    data_sizes.sort(key=int)\n",
    "\n",
    "    #create a dictionary with the entity types as keys and the f1 scores as values\n",
    "    entity_scores = {}\n",
    "    for entity in entities:\n",
    "        entity_scores[entity] = []\n",
    "\n",
    "    #add the f1 scores for each entity type for each data size\n",
    "    for size in data_sizes:\n",
    "        for entity in entities:\n",
    "            entity_scores[entity].append(float(results[size][\"f1\"][entities.index(entity)]))\n",
    "    #create a plot for each entity type\n",
    "    for entity in entities:\n",
    "        plt.plot(data_sizes, entity_scores[entity], label=entity)\n",
    "\n",
    "    plt.xlabel(\"Data size\")\n",
    "    plt.ylabel(\"F1 score\")\n",
    "    plt.title(title)\n",
    "    plt.legend()\n",
    "    plt.show()"
   ]
  },
  {
   "cell_type": "code",
   "execution_count": 4,
   "metadata": {},
   "outputs": [],
   "source": [
    "# Create three different plots for each Metric\n",
    "# The plots will show the Mean, Avg_max and Avg_min scores for the different Metrics\n",
    "def plot_similarity_scores(results, index, title):\n",
    "    \n",
    "    # get the data set sizes\n",
    "    data_sizes = list(results.keys())\n",
    "    \n",
    "    score_titles = ['Mean', 'Max', 'Min']\n",
    "\n",
    "    #create a dictionary with the metrics as keys and the scores as values\n",
    "    metric_scores = {}\n",
    "    for metric in score_titles:\n",
    "        metric_scores[metric] = []\n",
    "\n",
    "    #add the scores for each metric\n",
    "    for size in data_sizes:\n",
    "        for metric in score_titles:\n",
    "            print(score_titles.index(metric))\n",
    "            metric_scores[metric].append(float(results[size][metric][index]))\n",
    "    \n",
    "    print(metric_scores)\n",
    "    #create a plot for each metric\n",
    "    for score in score_titles:\n",
    "        print(data_sizes,metric_scores[score])\n",
    "        plt.plot(data_sizes, metric_scores[score], label=score)\n",
    "\n",
    "    plt.xlabel(\"Data size\")\n",
    "    plt.ylabel(\"Score\")\n",
    "    plt.title(title)\n",
    "    plt.legend()\n",
    "    plt.show()"
   ]
  },
  {
   "cell_type": "markdown",
   "metadata": {},
   "source": [
    "## Test dataset"
   ]
  },
  {
   "cell_type": "code",
   "execution_count": 9,
   "metadata": {},
   "outputs": [
    {
     "name": "stdout",
     "output_type": "stream",
     "text": [
      "{'50': {'Metric': ['Cos_sim', 'BLEU', 'Euclidean'], 'Mean': ['0.2801', '0.0197', '6.09'], 'Max': ['0.827', '0.3863', '27.973'], 'Min': ['-0.0444', '0.0', '1.0']}, '25': {'Metric': ['Cos_sim', 'BLEU', 'Euclidean'], 'Mean': ['0.2775', '0.0195', '6.0701'], 'Max': ['0.8011', '0.3484', '21.1327'], 'Min': ['-0.0362', '0.0', '1.0']}}\n",
      "['Cos_sim', 'BLEU', 'Euclidean']\n",
      "Metric: Cos_sim\n",
      "0\n",
      "1\n",
      "2\n",
      "0\n",
      "1\n",
      "2\n",
      "{'Mean': [0.2801, 0.2775], 'Max': [0.827, 0.8011], 'Min': [-0.0444, -0.0362]}\n",
      "['50', '25'] [0.2801, 0.2775]\n",
      "['50', '25'] [0.827, 0.8011]\n",
      "['50', '25'] [-0.0444, -0.0362]\n",
      "Metric: BLEU\n",
      "0\n",
      "1\n",
      "2\n",
      "0\n",
      "1\n",
      "2\n",
      "{'Mean': [0.0197, 0.0195], 'Max': [0.3863, 0.3484], 'Min': [0.0, 0.0]}\n",
      "['50', '25'] [0.0197, 0.0195]\n",
      "['50', '25'] [0.3863, 0.3484]\n",
      "['50', '25'] [0.0, 0.0]\n",
      "Metric: Euclidean\n",
      "0\n",
      "1\n",
      "2\n",
      "0\n",
      "1\n",
      "2\n",
      "{'Mean': [6.09, 6.0701], 'Max': [27.973, 21.1327], 'Min': [1.0, 1.0]}\n",
      "['50', '25'] [6.09, 6.0701]\n",
      "['50', '25'] [27.973, 21.1327]\n",
      "['50', '25'] [1.0, 1.0]\n"
     ]
    }
   ],
   "source": [
    "test_res = read_files(\"test\")\n",
    "print(test_res)\n",
    "metrics = test_res['25']['Metric']\n",
    "print(metrics)\n",
    "\n",
    "for index in range(0,3):\n",
    "    print(f'Metric: {metrics[index]}')\n",
    "    plot_similarity_scores(test_res, index, metrics[1])"
   ]
  },
  {
   "cell_type": "code",
   "execution_count": null,
   "metadata": {},
   "outputs": [],
   "source": []
  },
  {
   "cell_type": "code",
   "execution_count": null,
   "metadata": {},
   "outputs": [],
   "source": []
  }
 ],
 "metadata": {
  "kernelspec": {
   "display_name": "Python 3 (ipykernel)",
   "language": "python",
   "name": "python3"
  },
  "language_info": {
   "codemirror_mode": {
    "name": "ipython",
    "version": 3
   },
   "file_extension": ".py",
   "mimetype": "text/x-python",
   "name": "python",
   "nbconvert_exporter": "python",
   "pygments_lexer": "ipython3",
   "version": "3.10.4"
  }
 },
 "nbformat": 4,
 "nbformat_minor": 2
}
