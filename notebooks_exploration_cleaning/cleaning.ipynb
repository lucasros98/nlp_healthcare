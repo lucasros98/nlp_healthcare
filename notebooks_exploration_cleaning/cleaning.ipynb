{
 "cells": [
  {
   "cell_type": "markdown",
   "metadata": {},
   "source": [
    "# Data cleaning and preproccessing"
   ]
  },
  {
   "cell_type": "code",
   "execution_count": null,
   "metadata": {},
   "outputs": [],
   "source": [
    "import os\n",
    "import sys\n",
    "import string\n",
    "from dotenv import load_dotenv,find_dotenv\n",
    "\n",
    "sys.path.append(os.path.dirname(find_dotenv()))\n",
    "load_dotenv(find_dotenv())\n",
    "\n",
    "#Get the path for the data\n",
    "PATH = os.getenv('DATA_PATH')\n"
   ]
  },
  {
   "cell_type": "code",
   "execution_count": null,
   "metadata": {},
   "outputs": [],
   "source": [
    "from py_scripts.file_handler import write_csv_file\n",
    "from py_scripts.preprocessing import preprocessing"
   ]
  },
  {
   "cell_type": "code",
   "execution_count": null,
   "metadata": {},
   "outputs": [],
   "source": [
    "#puncation without - and >\n",
    "punctuation = string.punctuation.replace('-','')\n",
    "punctuation = punctuation.replace('>','')\n",
    "\n",
    "X, Y = preprocessing(IOB=True,punctuation=punctuation)\n",
    "X_cased, Y_cased = preprocessing(IOB=True,punctuation=punctuation,cased=True)"
   ]
  },
  {
   "cell_type": "code",
   "execution_count": null,
   "metadata": {},
   "outputs": [],
   "source": [
    "#Write to processed data\n",
    "write_csv_file(filename=\"cleaned\",X=X,Y=Y,subfolder=\"processed\")\n",
    "write_csv_file(filename=\"cleaned_cased\",X=X_cased,Y=Y_cased,subfolder=\"processed\")"
   ]
  },
  {
   "cell_type": "code",
   "execution_count": null,
   "metadata": {},
   "outputs": [],
   "source": [
    "#Write to train, test and validation data folder\n",
    "from py_scripts.data import create_data_dirs, split_data, split_randomly\n",
    "\n",
    "\n",
    "#Create the data directories\n",
    "create_data_dirs()\n",
    "\n",
    "#Split the data\n",
    "X_train, Y_train, X_val, Y_val, X_test, Y_test = split_data(X,Y)\n",
    "\n",
    "write_csv_file(filename=\"val_swe\",X=X_val,Y=Y_val,subfolder=\"val\")\n",
    "write_csv_file(filename=\"test_swe\",X=X_test,Y=Y_test,subfolder=\"test\")\n",
    "write_csv_file(filename=\"train_swe_100\",X=X_train,Y=Y_train,subfolder=\"train\")\n",
    "\n",
    "#Split the data randomly with different data sizes\n",
    "X_train_25, Y_train_25 = split_randomly(X_train,Y_train,data_size=0.25)\n",
    "X_train_50, Y_train_50 = split_randomly(X_train,Y_train,data_size=0.50)\n",
    "X_train_75, Y_train_75 = split_randomly(X_train,Y_train,data_size=0.75)\n",
    "\n",
    "#Write to files\n",
    "write_csv_file(filename=\"train_swe_25\",X=X_train_25,Y=Y_train_25,subfolder=\"train\")\n",
    "write_csv_file(filename=\"train_swe_50\",X=X_train_50,Y=Y_train_50,subfolder=\"train\")\n",
    "write_csv_file(filename=\"train_swe_75\",X=X_train_75,Y=Y_train_75,subfolder=\"train\")\n"
   ]
  }
 ],
 "metadata": {
  "kernelspec": {
   "display_name": "env",
   "language": "python",
   "name": "python3"
  },
  "language_info": {
   "codemirror_mode": {
    "name": "ipython",
    "version": 3
   },
   "file_extension": ".py",
   "mimetype": "text/x-python",
   "name": "python",
   "nbconvert_exporter": "python",
   "pygments_lexer": "ipython3",
   "version": "3.10.0"
  },
  "vscode": {
   "interpreter": {
    "hash": "947566739ad5f995ef683c347463316d267e00143e5dd2f059640c7a26e2b5e4"
   }
  }
 },
 "nbformat": 4,
 "nbformat_minor": 2
}
