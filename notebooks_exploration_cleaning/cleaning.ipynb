{
 "cells": [
  {
   "cell_type": "markdown",
   "metadata": {},
   "source": [
    "# Data cleaning and preproccessing"
   ]
  },
  {
   "cell_type": "code",
   "execution_count": null,
   "metadata": {},
   "outputs": [],
   "source": [
    "import os\n",
    "from dotenv import load_dotenv\n",
    "\n",
    "load_dotenv()\n",
    "\n",
    "#Get the path for the data\n",
    "PATH = os.getenv('DATA_PATH')"
   ]
  },
  {
   "cell_type": "code",
   "execution_count": null,
   "metadata": {},
   "outputs": [],
   "source": [
    "import pandas as pd\n",
    "\n",
    "def write_to_csv(filename=\"cleaned\",X=[],Y=[]):\n",
    "    result = pd.DataFrame({\"X\": X, \"Y\": Y})\n",
    "    result.to_csv(\"../data/\"+filename+\".csv\")"
   ]
  },
  {
   "cell_type": "code",
   "execution_count": null,
   "metadata": {},
   "outputs": [],
   "source": [
    "def clean_label_string(token,label_lower):\n",
    "    token = token.replace('<' + label_lower + '>', '')\n",
    "    token = token.replace('</' + label_lower + '>', '')\n",
    "    return token"
   ]
  },
  {
   "cell_type": "code",
   "execution_count": null,
   "metadata": {},
   "outputs": [],
   "source": [
    "labels = ['First_Name', 'Last_Name', 'Phone_Number', 'Age', 'Full_Date', 'Date_Part', 'Health_Care_Unit', 'Location']    "
   ]
  },
  {
   "cell_type": "code",
   "execution_count": null,
   "metadata": {},
   "outputs": [],
   "source": [
    "import string\n",
    "\n",
    "#Load file and get lines\n",
    "with open(PATH) as f:\n",
    "    documents = f.read().splitlines() \n",
    "   \n",
    "X = []\n",
    "Y = []\n",
    "\n",
    "#for couting the nr of inside labels\n",
    "nr_of_inside_labels = {\n",
    "    'First_Name': 0,\n",
    "    'Last_Name': 0,\n",
    "    'Phone_Number': 0,\n",
    "    'Age': 0,\n",
    "    'Full_Date': 0,\n",
    "    'Date_Part': 0,\n",
    "    'Health_Care_Unit': 0,\n",
    "    'Location': 0\n",
    "}\n",
    "\n",
    "for doc in documents:\n",
    "    curr_X = []\n",
    "    curr_Y = []\n",
    "    \n",
    "    #to lowercase\n",
    "    doc = doc.lower()\n",
    "    \n",
    "    #add spaces between named entities\n",
    "    doc = doc.replace(\">\",\"> \")\n",
    "    doc = doc.replace(\"<\",\" <\")\n",
    "    \n",
    "    #split string\n",
    "    words = doc.split()\n",
    "    \n",
    "    #Skip empty lines\n",
    "    if len(words) <= 1:\n",
    "        continue\n",
    "    \n",
    "    named_entity = False\n",
    "    inside_entity = False\n",
    "    \n",
    "    #loop over words, and mark each word as O or as their specific label\n",
    "    for word in words:    \n",
    "\n",
    "        #check if current token is a named entity\n",
    "        if '<' in word[0] and '>' in word[-1]:\n",
    "            \n",
    "            #find the correct label\n",
    "            for label in labels:\n",
    "                label_lower = label.lower()\n",
    "\n",
    "                #start of entity\n",
    "                if '<' + label_lower + '>' in word:\n",
    "                    word = clean_label_string(word,label_lower)\n",
    "                    named_entity = True\n",
    "                    break\n",
    "                #end of entity\n",
    "                elif '</' + label_lower + '>' in word:\n",
    "                    word = clean_label_string(word,label_lower)\n",
    "                    named_entity = False\n",
    "                    inside_entity = False\n",
    "                    break\n",
    "                    \n",
    "        #skip if empty string\n",
    "        if len(word) == 0:\n",
    "            continue\n",
    "            \n",
    "        word = word.strip()\n",
    "        \n",
    "        #start of named entity    \n",
    "        if named_entity and not inside_entity:\n",
    "            curr_Y.append(label)\n",
    "            curr_X.append(word)\n",
    "            inside_entity = True\n",
    "\n",
    "        #inside of named entity\n",
    "        elif named_entity and inside_entity:\n",
    "            nr_of_inside_labels[label] += 1\n",
    "\n",
    "            curr_Y.append(label)\n",
    "            curr_X.append(word)\n",
    "    \n",
    "        #outside of named enitity\n",
    "        else:     \n",
    "            curr_Y.append('O')\n",
    "            curr_X.append(word)\n",
    "\n",
    "    X.append(curr_X)\n",
    "    Y.append(curr_Y)"
   ]
  },
  {
   "cell_type": "code",
   "execution_count": null,
   "metadata": {},
   "outputs": [],
   "source": [
    "print(\"Number of inside labels: \", nr_of_inside_labels)"
   ]
  },
  {
   "cell_type": "code",
   "execution_count": null,
   "metadata": {},
   "outputs": [],
   "source": [
    "write_to_csv(X=X,Y=Y)"
   ]
  }
 ],
 "metadata": {
  "kernelspec": {
   "display_name": "Python 3 (ipykernel)",
   "language": "python",
   "name": "python3"
  },
  "language_info": {
   "codemirror_mode": {
    "name": "ipython",
    "version": 3
   },
   "file_extension": ".py",
   "mimetype": "text/x-python",
   "name": "python",
   "nbconvert_exporter": "python",
   "pygments_lexer": "ipython3",
   "version": "3.10.0"
  },
  "vscode": {
   "interpreter": {
    "hash": "aee8b7b246df8f9039afb4144a1f6fd8d2ca17a180786b69acc140d282b71a49"
   }
  }
 },
 "nbformat": 4,
 "nbformat_minor": 2
}
