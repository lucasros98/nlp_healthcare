{
 "cells": [
  {
   "cell_type": "markdown",
   "metadata": {},
   "source": [
    "# Data cleaning and preproccessing"
   ]
  },
  {
   "cell_type": "code",
   "execution_count": null,
   "metadata": {},
   "outputs": [],
   "source": [
    "import os\n",
    "from dotenv import load_dotenv\n",
    "\n",
    "load_dotenv()\n",
    "\n",
    "#Get the path for the data\n",
    "PATH = os.getenv('DATA_PATH')"
   ]
  },
  {
   "cell_type": "code",
   "execution_count": null,
   "metadata": {},
   "outputs": [],
   "source": [
    "import pandas as pd\n",
    "\n",
    "def write_to_csv(filename=\"cleaned\",X=[],Y=[]):\n",
    "    result = pd.DataFrame({\"X\": X, \"Y\": Y})\n",
    "    result.to_csv(\"../data/\"+filename+\".csv\")\n",
    "    "
   ]
  },
  {
   "cell_type": "code",
   "execution_count": null,
   "metadata": {},
   "outputs": [],
   "source": [
    "import string\n",
    "\n",
    "#Possible labels\n",
    "labels = ['first_name', 'last_name', 'phone_number', 'age', 'full_date', 'date_part', 'health_care_unit', 'location']    \n",
    "\n",
    "#Load file and get lines\n",
    "with open(PATH) as f:\n",
    "    lines = f.read().splitlines() \n",
    "   \n",
    "X = []\n",
    "Y = []\n",
    "\n",
    "for l in lines:\n",
    "    curr_X = []\n",
    "    curr_Y = []\n",
    "        \n",
    "    #to lowercase\n",
    "    l = l.lower()\n",
    "    \n",
    "    #add - to tokenize dates correctly\n",
    "    l = l.replace(\"-\",\" - \")\n",
    "    l = l.replace(\".\",\" . \")\n",
    "\n",
    "    \n",
    "    #split string\n",
    "    words = l.split()\n",
    "    \n",
    "    \n",
    "    #Skip empty lines\n",
    "    if len(words) <= 1:\n",
    "        continue\n",
    "    \n",
    "    for word in words:\n",
    "        named_entity = False\n",
    "        \n",
    "        #check if named entity\n",
    "        #named entities start with < and end with >, so check\n",
    "        if '<' in word and '>' in word:\n",
    "\n",
    "            #find the correct label\n",
    "            for label in labels:\n",
    "                if '<' + label + '>' in word:\n",
    "                    named_entity = True\n",
    "                    word = word.replace('<' + label + '>', '')\n",
    "                    word = word.replace('</' + label + '>', '')\n",
    "                    break\n",
    "                    \n",
    "        #not a named entity\n",
    "        else:\n",
    "            word = word.strip(string.punctuation)\n",
    "            word = word.replace(' ','')\n",
    "            \n",
    "            #skip if empty string\n",
    "            if len(word) == 0:\n",
    "                continue\n",
    "\n",
    "        #add to X and Y\n",
    "        curr_X.append(word)\n",
    "        if named_entity:\n",
    "            curr_Y.append(label)\n",
    "        else:\n",
    "            curr_Y.append('O')\n",
    "\n",
    "    X.append(curr_X)\n",
    "    Y.append(curr_Y)\n",
    "\n",
    "write_to_csv(X=X,Y=Y)\n"
   ]
  },
  {
   "cell_type": "code",
   "execution_count": null,
   "metadata": {},
   "outputs": [],
   "source": []
  }
 ],
 "metadata": {
  "kernelspec": {
   "display_name": "Python 3 (ipykernel)",
   "language": "python",
   "name": "python3"
  },
  "language_info": {
   "codemirror_mode": {
    "name": "ipython",
    "version": 3
   },
   "file_extension": ".py",
   "mimetype": "text/x-python",
   "name": "python",
   "nbconvert_exporter": "python",
   "pygments_lexer": "ipython3",
   "version": "3.9.12"
  },
  "vscode": {
   "interpreter": {
    "hash": "aee8b7b246df8f9039afb4144a1f6fd8d2ca17a180786b69acc140d282b71a49"
   }
  }
 },
 "nbformat": 4,
 "nbformat_minor": 2
}
