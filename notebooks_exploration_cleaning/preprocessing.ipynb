{
 "cells": [
  {
   "attachments": {},
   "cell_type": "markdown",
   "metadata": {},
   "source": [
    "# Preprocessing of the data\n",
    "\n",
    "Split the data into train, val and test set"
   ]
  },
  {
   "cell_type": "code",
   "execution_count": null,
   "metadata": {},
   "outputs": [],
   "source": [
    "import os\n",
    "from dotenv import find_dotenv\n",
    "import sys\n",
    "\n",
    "sys.path.append(os.path.dirname(find_dotenv()))\n",
    "\n",
    "from py_scripts.file_handler import write_csv_file, read_csv_file\n",
    "\n",
    "from sklearn.model_selection import train_test_split"
   ]
  },
  {
   "cell_type": "code",
   "execution_count": null,
   "metadata": {},
   "outputs": [],
   "source": [
    "#Ratio of train, validation and test\n",
    "train_ratio = 0.75\n",
    "validation_ratio = 0.15\n",
    "test_ratio = 0.10\n",
    "\n",
    "#Load data\n",
    "X,Y = read_csv_file('clean.csv')\n",
    "\n",
    "#Split data into train, validation and test\n",
    "X_train, X_test, Y_train, Y_test = train_test_split(X, Y, test_size=1-train_ratio, random_state=27)\n",
    "X_validation, X_test, Y_validation, Y_test = train_test_split(X_test, Y_test, test_size=test_ratio/(test_ratio+validation_ratio), random_state=27)"
   ]
  },
  {
   "cell_type": "code",
   "execution_count": null,
   "metadata": {},
   "outputs": [],
   "source": [
    "#Write data into csv files\n",
    "write_csv_file('train', X_train, Y_train)\n",
    "write_csv_file('validation', X_validation, Y_validation)\n",
    "write_csv_file('test', X_test, Y_test)"
   ]
  }
 ],
 "metadata": {
  "kernelspec": {
   "display_name": "env",
   "language": "python",
   "name": "python3"
  },
  "language_info": {
   "name": "python",
   "version": "3.10.0"
  },
  "vscode": {
   "interpreter": {
    "hash": "947566739ad5f995ef683c347463316d267e00143e5dd2f059640c7a26e2b5e4"
   }
  }
 },
 "nbformat": 4,
 "nbformat_minor": 2
}
