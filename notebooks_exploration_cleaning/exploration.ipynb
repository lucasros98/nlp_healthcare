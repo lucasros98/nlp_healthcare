{
 "cells": [
  {
   "cell_type": "markdown",
   "metadata": {},
   "source": [
    "# Exploration of the data"
   ]
  },
  {
   "cell_type": "markdown",
   "metadata": {},
   "source": [
    "print a dataframe with the sum of all entities\n",
    "\n",
    "also prints a dataframe with the unique entities for each label"
   ]
  },
  {
   "cell_type": "code",
   "execution_count": null,
   "metadata": {},
   "outputs": [],
   "source": [
    "import pandas as pd\n",
    "\n",
    "file_path = \"../data/data.txt\"\n",
    "\n",
    "def remove_duplicates(named_entities):\n",
    "    for entity in named_entities:\n",
    "        named_entities[entity][0] = list(set(named_entities[entity][0]))\n",
    "        named_entities[entity][1] = len(named_entities[entity][0])\n",
    "    \n",
    "    return named_entities\n",
    "\n",
    "def named_entities_to_dataframe(named_entities):\n",
    "    return pd.DataFrame.from_dict(named_entities, orient='index', columns=['Value', 'Count'])\n",
    "\n",
    "def extract_named_entities(file_path):\n",
    "    with open(file_path, 'r') as f:\n",
    "        text = f.read()\n",
    "\n",
    "    labels = ['First_Name', 'Last_Name', 'Phone_Number', 'Age', 'Full_Date', 'Date_Part', 'Health_Care_Unit', 'Location']    \n",
    "        \n",
    "    found_entities = {}\n",
    "    start_index = text.find(\"<\")\n",
    "    while start_index != -1:\n",
    "        end_index = text.find(\">\", start_index)\n",
    "        end_index2 = text.find(\"</\", end_index)\n",
    "        \n",
    "        named_entity = text[start_index+1:end_index]\n",
    "        named_entity_value = text[end_index+1:end_index2]\n",
    "        \n",
    "        end_index2 = text.find(\">\", end_index2)\n",
    "        start_index = text.find(\"<\", end_index2)\n",
    "\n",
    "        if not named_entity in labels: continue\n",
    "\n",
    "        if named_entity in found_entities:\n",
    "            found_entities[named_entity][0].append(named_entity_value)\n",
    "            found_entities[named_entity][1] += 1\n",
    "        else:\n",
    "            found_entities[named_entity] = [[named_entity_value], 1]\n",
    "        \n",
    "    return found_entities\n",
    "\n",
    "named_entities = extract_named_entities(file_path)\n",
    "df = named_entities_to_dataframe(named_entities)\n",
    "print(df)\n",
    "\n",
    "named_entities_unique_values = remove_duplicates(named_entities)\n",
    "df2 = named_entities_to_dataframe(named_entities_unique_values)\n",
    "print(\"\\nUnique values:\\n\", df2)"
   ]
  },
  {
   "cell_type": "code",
   "execution_count": null,
   "metadata": {},
   "outputs": [],
   "source": []
  }
 ],
 "metadata": {
  "kernelspec": {
   "display_name": "Python 3",
   "language": "python",
   "name": "python3"
  },
  "language_info": {
   "codemirror_mode": {
    "name": "ipython",
    "version": 3
   },
   "file_extension": ".py",
   "mimetype": "text/x-python",
   "name": "python",
   "nbconvert_exporter": "python",
   "pygments_lexer": "ipython3",
   "version": "3.8.5"
  },
  "vscode": {
   "interpreter": {
    "hash": "aee8b7b246df8f9039afb4144a1f6fd8d2ca17a180786b69acc140d282b71a49"
   }
  }
 },
 "nbformat": 4,
 "nbformat_minor": 2
}
