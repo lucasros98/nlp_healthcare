{
 "cells": [
  {
   "cell_type": "markdown",
   "metadata": {},
   "source": [
    "# Baseline: Dictionary search\n",
    "\n",
    "This notebooks explores another type of baseline for the system.\n",
    "\n",
    "In this notebook a dictionary is created for the training data that maps all the named entities to its true label. \n",
    "\n",
    "The dictionary is then used for searching for the correct label, using the test data. If no corresponding class is found in the dictionary, the token is predicted as 'O'."
   ]
  },
  {
   "cell_type": "markdown",
   "metadata": {},
   "source": [
    "## Importing "
   ]
  },
  {
   "cell_type": "code",
   "execution_count": null,
   "metadata": {},
   "outputs": [],
   "source": [
    "import os\n",
    "import numpy as np\n",
    "from dotenv import load_dotenv, find_dotenv\n",
    "import sys\n",
    "\n",
    "sys.path.append(os.path.dirname(find_dotenv()))\n",
    "load_dotenv(find_dotenv())"
   ]
  },
  {
   "cell_type": "code",
   "execution_count": null,
   "metadata": {},
   "outputs": [],
   "source": [
    "#Import the file_handler.py file\n",
    "from py_scripts.file_handler import save_result_file\n",
    "from py_scripts.ner_util.ner_system import print_report\n",
    "from py_scripts.data import get_training_data"
   ]
  },
  {
   "cell_type": "markdown",
   "metadata": {},
   "source": [
    "## Creating dictionary from training data"
   ]
  },
  {
   "cell_type": "code",
   "execution_count": null,
   "metadata": {},
   "outputs": [],
   "source": [
    "#Create a dictionary/mapping of the labels from the training data\n",
    "def create_mapping(X_train, Y_train):\n",
    "    mapping = {}\n",
    "\n",
    "    for i in range(len(X_train)):\n",
    "        for j in range(len(X_train[i])):\n",
    "            if Y_train[i][j] != 'O':\n",
    "                #map the word to the label\n",
    "                mapping[X_train[i][j]] = Y_train[i][j]\n",
    "    \n",
    "    return mapping"
   ]
  },
  {
   "cell_type": "code",
   "execution_count": null,
   "metadata": {},
   "outputs": [],
   "source": [
    "#Predict the labels for the test data using the dictionary\n",
    "def predict_labels(X_test, mapping):\n",
    "    Y_pred = []\n",
    "\n",
    "    for i in range(len(X_test)):\n",
    "        Y_pred.append([])\n",
    "        for j in range(len(X_test[i])):\n",
    "            if X_test[i][j] in mapping:\n",
    "                Y_pred[i].append(mapping[X_test[i][j]])\n",
    "            else:\n",
    "                Y_pred[i].append(\"O\")\n",
    "    \n",
    "    return Y_pred"
   ]
  },
  {
   "cell_type": "markdown",
   "metadata": {},
   "source": [
    "## Running the model"
   ]
  },
  {
   "cell_type": "code",
   "execution_count": null,
   "metadata": {},
   "outputs": [],
   "source": [
    "#Evaluate the model\n",
    "import evaluate as ev\n",
    "seqeval = ev.load('seqeval')\n",
    "\n",
    "#Get the training data\n",
    "data = [25,50,75,100]\n",
    "\n",
    "for i in data:\n",
    "    X_train, Y_train,_,_, X_test, Y_test = get_training_data(precentage=i)\n",
    "\n",
    "    #Create the mapping\n",
    "    mapping = create_mapping(X_train, Y_train)\n",
    "\n",
    "    #Predict the labels\n",
    "    Y_pred = predict_labels(X_test, mapping)\n",
    "\n",
    "    #Evaluate the model\n",
    "    print(\"Classification report for the model\")\n",
    "\n",
    "    results = seqeval.compute(predictions=Y_pred, references=Y_test, mode='strict', scheme='IOB2',zero_division=1)\n",
    "    report = print_report(results)\n",
    "    print(report)\n",
    "\n",
    "    filename = \"baseline_\"+str(i)+\".csv\"\n",
    "    save_result_file(\"baseline\",filename, report)"
   ]
  }
 ],
 "metadata": {
  "kernelspec": {
   "display_name": "Python 3 (ipykernel)",
   "language": "python",
   "name": "python3"
  },
  "language_info": {
   "codemirror_mode": {
    "name": "ipython",
    "version": 3
   },
   "file_extension": ".py",
   "mimetype": "text/x-python",
   "name": "python",
   "nbconvert_exporter": "python",
   "pygments_lexer": "ipython3",
   "version": "3.10.0"
  },
  "vscode": {
   "interpreter": {
    "hash": "aee8b7b246df8f9039afb4144a1f6fd8d2ca17a180786b69acc140d282b71a49"
   }
  }
 },
 "nbformat": 4,
 "nbformat_minor": 2
}
