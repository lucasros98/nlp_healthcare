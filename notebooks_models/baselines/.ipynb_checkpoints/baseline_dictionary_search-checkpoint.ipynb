{
 "cells": [
  {
   "cell_type": "markdown",
   "metadata": {},
   "source": [
    "# Baseline: Dictionary search\n",
    "\n",
    "This notebooks explores another type of baseline for the system.\n",
    "\n",
    "In this notebook a dictionary is created for the training data that maps all the named entities to its true label. \n",
    "\n",
    "The dictionary is then used for searching for the correct label, using the test data. If no corresponding class is found in the dictionary, the token is predicted as 'O'."
   ]
  },
  {
   "cell_type": "code",
   "execution_count": null,
   "metadata": {},
   "outputs": [],
   "source": [
    "#This is the labels, but the entities will start with I- and B- for the first and the rest of the entities\n",
    "labels = ['First_Name', 'Last_Name', 'Phone_Number', 'Age', 'Full_Date', 'Date_Part', 'Health_Care_Unit', 'Location']    "
   ]
  },
  {
   "cell_type": "markdown",
   "metadata": {},
   "source": [
    "## Importing "
   ]
  },
  {
   "cell_type": "code",
   "execution_count": null,
   "metadata": {},
   "outputs": [],
   "source": [
    "import os\n",
    "import numpy as np\n",
    "from dotenv import load_dotenv, find_dotenv\n",
    "import sys\n",
    "\n",
    "sys.path.append(os.path.dirname(find_dotenv()))\n",
    "load_dotenv(find_dotenv())"
   ]
  },
  {
   "cell_type": "code",
   "execution_count": null,
   "metadata": {},
   "outputs": [],
   "source": [
    "#Import the file_handler.py file\n",
    "from py_scripts.file_handler import read_csv_file\n",
    "from py_scripts.ner_util.ner_system import print_report\n",
    "\n",
    "#Read the data\n",
    "X_train, Y_train = read_csv_file(\"train_swe_100.csv\",\"train\")\n",
    "X_test, Y_test = read_csv_file(\"test_swe.csv\",\"test\")"
   ]
  },
  {
   "cell_type": "markdown",
   "metadata": {},
   "source": [
    "## Creating dictionary from training data"
   ]
  },
  {
   "cell_type": "code",
   "execution_count": null,
   "metadata": {},
   "outputs": [],
   "source": [
    "#Create a dictionary/mapping of the labels from the training data\n",
    "mapping = {}\n",
    "\n",
    "for i in range(len(X_train)):\n",
    "    for j in range(len(X_train[i])):\n",
    "        if X_train[i][j] not in mapping and Y_train[i][j] != 'O':\n",
    "            #map the word to the label\n",
    "            mapping[X_train[i][j]] = Y_train[i][j]"
   ]
  },
  {
   "cell_type": "code",
   "execution_count": null,
   "metadata": {},
   "outputs": [],
   "source": [
    "#Predict the labels for the test data using the dictionary\n",
    "Y_pred = []\n",
    "\n",
    "for i in range(len(X_test)):\n",
    "    Y_pred.append([])\n",
    "    for j in range(len(X_test[i])):\n",
    "        if X_test[i][j] in mapping:\n",
    "            Y_pred[i].append(mapping[X_test[i][j]])\n",
    "        else:\n",
    "            Y_pred[i].append(\"O\")"
   ]
  },
  {
   "cell_type": "code",
   "execution_count": null,
   "metadata": {},
   "outputs": [],
   "source": [
    "#Evaluate the model\n",
    "import evaluate as ev\n",
    "seqeval = ev.load('seqeval')\n",
    "\n",
    "print(\"Classification report for the model\")\n",
    "\n",
    "results = seqeval.compute(predictions=Y_pred, references=Y_test, mode='strict', scheme='IOB2',zero_division=1)\n",
    "report = print_report(results)\n",
    "print(report)\n"
   ]
  }
 ],
 "metadata": {
  "kernelspec": {
   "display_name": "Python 3 (ipykernel)",
   "language": "python",
   "name": "python3"
  },
  "language_info": {
   "codemirror_mode": {
    "name": "ipython",
    "version": 3
   },
   "file_extension": ".py",
   "mimetype": "text/x-python",
   "name": "python",
   "nbconvert_exporter": "python",
   "pygments_lexer": "ipython3",
   "version": "3.10.0"
  },
  "vscode": {
   "interpreter": {
    "hash": "aee8b7b246df8f9039afb4144a1f6fd8d2ca17a180786b69acc140d282b71a49"
   }
  }
 },
 "nbformat": 4,
 "nbformat_minor": 2
}
