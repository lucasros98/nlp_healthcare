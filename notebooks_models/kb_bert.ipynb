{
 "cells": [
  {
   "cell_type": "markdown",
   "metadata": {},
   "source": [
    "# KB-BERT"
   ]
  },
  {
   "cell_type": "code",
   "execution_count": null,
   "metadata": {},
   "outputs": [],
   "source": [
    "import os\n",
    "import numpy as np\n",
    "from dotenv import load_dotenv, find_dotenv\n",
    "import sys\n",
    "import torch\n",
    "from torch import nn\n",
    "\n",
    "sys.path.append(os.path.dirname(find_dotenv()))"
   ]
  },
  {
   "cell_type": "code",
   "execution_count": null,
   "metadata": {},
   "outputs": [],
   "source": [
    "#Import the file_handler.py file\n",
    "from py_scripts.file_handler import read_csv_file\n",
    "\n",
    "#Read the data\n",
    "X, Y = read_csv_file(\"clean.csv\")"
   ]
  },
  {
   "cell_type": "code",
   "execution_count": null,
   "metadata": {},
   "outputs": [],
   "source": [
    "import py_scripts.ner_util.ner_system as ner_util"
   ]
  },
  {
   "cell_type": "markdown",
   "metadata": {},
   "source": [
    "## Defining the model"
   ]
  },
  {
   "cell_type": "code",
   "execution_count": null,
   "metadata": {},
   "outputs": [],
   "source": [
    "from transformers import AutoTokenizer, AutoModel\n",
    "\n",
    "kb_tokenizer = AutoTokenizer.from_pretrained('KB/bert-base-swedish-cased')\n",
    "kb_model = AutoModel.from_pretrained('KB/bert-base-swedish-cased')"
   ]
  },
  {
   "cell_type": "code",
   "execution_count": null,
   "metadata": {},
   "outputs": [],
   "source": [
    "class KB_BERT(nn.Module):\n",
    "    def __init__(self, seq_labeler):\n",
    "        super().__init__() \n",
    "\n",
    "        p = seq_labeler.params\n",
    "        self.bert = kb_model\n",
    "\n",
    "        # Output unit.\n",
    "        self.top_layer = nn.Linear(self.bert.config.hidden_size, seq_labeler.n_labels)\n",
    "\n",
    "    def forward(self, words):\n",
    "        outputs = self.bert(words)\n",
    "        res = outputs[0]\n",
    "        return self.top_layer(res)"
   ]
  },
  {
   "cell_type": "code",
   "execution_count": null,
   "metadata": {},
   "outputs": [],
   "source": [
    "class NERParameters():\n",
    "\n",
    "    # Random seed, for reproducibility.\n",
    "    random_seed = 0\n",
    "    \n",
    "    # cuda or cpu\n",
    "    device = 'cpu'\n",
    "                \n",
    "    # NB: this hyperparameter is only used if we are training the embedding\n",
    "    # model from scratch.\n",
    "    word_emb_dim = 128\n",
    "    \n",
    "    # Whether or not to fine-tune the word embedding model.\n",
    "    finetune_word_emb = False\n",
    "\n",
    "    # Training parameters\n",
    "    n_epochs = 20\n",
    "    batch_size = 32   \n",
    "    learning_rate = 0.00008\n",
    "    weight_decay = 0\n",
    "\n",
    "    # Word dropout rate.\n",
    "    word_dropout_prob = 0.0\n",
    "\n",
    "    # Set the following to True to enable character tensors.\n",
    "    use_characters = False\n",
    "\n",
    "    bert_max_len = 256\n",
    "\n",
    "    bert_model = False"
   ]
  },
  {
   "cell_type": "code",
   "execution_count": null,
   "metadata": {},
   "outputs": [],
   "source": [
    "!wget https://raw.githubusercontent.com/lucasros98/files/main/train_1177_clean.csv\n",
    "!wget https://raw.githubusercontent.com/lucasros98/files/main/val_1177_clean.csv"
   ]
  },
  {
   "cell_type": "code",
   "execution_count": null,
   "metadata": {},
   "outputs": [],
   "source": [
    "X_train_1177_clean, Y_train_1177_clean = read_csv_file(\"train_1177_clean\")\n",
    "X_val_1177_clean, Y_val_1177_clean = read_csv_file(\"val_1177_clean\")"
   ]
  },
  {
   "cell_type": "code",
   "execution_count": null,
   "metadata": {},
   "outputs": [],
   "source": [
    "ner_system = ner_util.SequenceLabeler(NERParameters(), KB_BERT, bert_tokenizer=AutoTokenizer.from_pretrained('KB/bert-base-swedish-cased'))\n",
    "\n",
    "ner_system.fit(X_train_1177_clean, Y_train_1177_clean, X_val_1177_clean, Y_val_1177_clean)"
   ]
  },
  {
   "cell_type": "code",
   "execution_count": null,
   "metadata": {},
   "outputs": [],
   "source": []
  }
 ],
 "metadata": {
  "kernelspec": {
   "display_name": "Python 3 (ipykernel)",
   "language": "python",
   "name": "python3"
  },
  "language_info": {
   "codemirror_mode": {
    "name": "ipython",
    "version": 3
   },
   "file_extension": ".py",
   "mimetype": "text/x-python",
   "name": "python",
   "nbconvert_exporter": "python",
   "pygments_lexer": "ipython3",
   "version": "3.10.0"
  },
  "vscode": {
   "interpreter": {
    "hash": "aee8b7b246df8f9039afb4144a1f6fd8d2ca17a180786b69acc140d282b71a49"
   }
  }
 },
 "nbformat": 4,
 "nbformat_minor": 2
}
